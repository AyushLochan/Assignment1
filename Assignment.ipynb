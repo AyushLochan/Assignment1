{
 "cells": [
  {
   "cell_type": "markdown",
   "metadata": {
    "collapsed": false
   },
   "source": [
    "# Notebook Title"
   ]
  },
  {
   "cell_type": "markdown",
   "metadata": {
    "collapsed": false
   },
   "source": [
    "# Introduction\n",
    "\n",
    "### Welcome to this notebook!\n",
    "\n",
    "### In this notebook, we will explore various concepts related to Jupyter. We'll delve into different aspects, analyze data, and present our findings. Whether you are new to this subject or have some prior knowledge, there will be something for everyone.\n",
    "\n",
    "### Feel free to experiment, ask questions, and take notes as we progress through the content. Let's get started on this exciting journey of learning and discovery!"
   ]
  },
  {
   "cell_type": "markdown",
   "metadata": {
    "collapsed": false
   },
   "source": [
    "## Data Science Languages\n",
    "\n",
    "1. Python\n",
    "2. R\n",
    "3. Julia\n",
    "4. SQL (Structured Query Language)\n",
    "5. Scala\n",
    "6. MATLAB\n",
    "7. Java (with data science libraries like Apache Spark)\n",
    "8. SAS (Statistical Analysis System)\n",
    "9. C++\n",
    "10. Perl\n",
    "\n",
    "These languages are commonly used in data science for various tasks such as data manipulation, analysis, visualization, machine learning, and statistical modeling. Each language has its strengths and weaknesses, and the choice of language often depends on the specific requirements of the data science project.\n"
   ]
  },
  {
   "cell_type": "markdown",
   "metadata": {
    "collapsed": false
   },
   "source": [
    "## Popular Data Science Libraries in Python\n",
    "\n",
    "1. **NumPy**: Fundamental package for numerical computing with Python, enabling efficient array operations and mathematical functions.\n",
    "\n",
    "2. **Pandas**: Powerful library for data manipulation and analysis, providing data structures like DataFrame to work with structured data easily.\n",
    "\n",
    "3. **Matplotlib**: Widely-used plotting library to create static, interactive, and publication-quality visualizations.\n",
    "\n",
    "4. **Seaborn**: Data visualization library built on top of Matplotlib, providing a high-level interface for drawing attractive statistical graphics.\n",
    "\n",
    "5. **SciPy**: Library for scientific computing that builds on NumPy, offering additional functionalities like integration, interpolation, optimization, and more.\n",
    "\n",
    "6. **Scikit-learn**: Machine learning library containing various algorithms for classification, regression, clustering, and more, along with tools for model selection and evaluation.\n",
    "\n",
    "7. **TensorFlow**: Open-source deep learning framework developed by Google for building and training neural networks.\n",
    "\n",
    "8. **Keras**: High-level deep learning API that runs on top of TensorFlow, designed for quick and easy prototyping and experimentation.\n",
    "\n",
    "9. **PyTorch**: Deep learning library known for its dynamic computational graph, making it popular among researchers and practitioners.\n",
    "\n",
    "10. **NLTK (Natural Language Toolkit)**: Library for natural language processing (NLP) tasks, providing tools for text analysis, tokenization, stemming, and more.\n",
    "\n",
    "These libraries form the backbone of Python's data science ecosystem and are extensively used for various data analysis, machine learning, and deep learning tasks.\n"
   ]
  },
  {
   "cell_type": "markdown",
   "metadata": {
    "collapsed": false
   },
   "source": [
    "## Data Science Tools\n",
    "\n",
    "| Tool              | Description                                                                                                    |\n",
    "|-------------------|---------------------------------------------------------------------------------------------------------------|\n",
    "| **Languages**     |                                                                                                               |\n",
    "| Python            | General-purpose language with rich data science libraries and frameworks.                                    |\n",
    "| R                 | Specialized language for statistics and data analysis.                                                       |\n",
    "| Julia             | High-performance language for numerical and scientific computing.                                            |\n",
    "| SQL               | Query language for interacting with relational databases.                                                    |\n",
    "| **Libraries**     |                                                                                                               |\n",
    "| NumPy             | Fundamental package for numerical computing in Python.                                                       |\n",
    "| Pandas            | Library for data manipulation and analysis in Python.                                                        |\n",
    "| Matplotlib        | Popular plotting library for creating visualizations in Python.                                              |\n",
    "| Seaborn           | Data visualization library built on top of Matplotlib.                                                       |\n",
    "| SciPy             | Library for scientific and technical computing in Python.                                                    |\n",
    "| **Data Tools**    |                                                                                                               |\n",
    "| Jupyter Notebook  | Interactive computing environment for creating and sharing documents with code, text, and visualizations.  |\n",
    "| Apache Spark      | Distributed computing framework for processing large-scale data.                                             |\n",
    "| Dask              | Parallel computing library for scaling Python workflows.                                                     |\n",
    "| Hadoop            | Distributed storage and processing system for big data.                                                      |\n",
    "| **Visualization** |                                                                                                               |\n",
    "| Tableau           | Business intelligence and data visualization software.                                                       |\n",
    "| Power BI          | Business analytics service for creating interactive reports and dashboards.                                  |\n",
    "| Plotly            | Interactive graphing library for creating web-based visualizations.                                          |\n",
    "| **Cloud Platforms** |                                                                                                              |\n",
    "| AWS               | Amazon Web Services, providing cloud computing services and resources.                                      |\n",
    "| GCP               | Google Cloud Platform, offering cloud-based solutions and services.                                         |\n",
    "| Azure             | Microsoft Azure, a cloud computing platform with various data services.                                     |\n"
   ]
  },
  {
   "cell_type": "code",
   "execution_count": 2,
   "metadata": {
    "collapsed": false
   },
   "outputs": [
    {
     "data": {
      "text/html": [
       "<html>\\(\\displaystyle 7\\)</html>"
      ],
      "text/latex": [
       "$\\displaystyle 7$"
      ],
      "text/plain": [
       "7"
      ]
     },
     "execution_count": 2,
     "metadata": {
     },
     "output_type": "execute_result"
    },
    {
     "data": {
      "text/html": [
       "<html>\\(\\displaystyle 7\\)</html>"
      ],
      "text/latex": [
       "$\\displaystyle 7$"
      ],
      "text/plain": [
       "7"
      ]
     },
     "execution_count": 2,
     "metadata": {
     },
     "output_type": "execute_result"
    },
    {
     "data": {
      "text/html": [
       "<html>\\(\\displaystyle 24\\)</html>"
      ],
      "text/latex": [
       "$\\displaystyle 24$"
      ],
      "text/plain": [
       "24"
      ]
     },
     "execution_count": 2,
     "metadata": {
     },
     "output_type": "execute_result"
    },
    {
     "data": {
      "text/html": [
       "<html>\\(\\displaystyle 5\\)</html>"
      ],
      "text/latex": [
       "$\\displaystyle 5$"
      ],
      "text/plain": [
       "5"
      ]
     },
     "execution_count": 2,
     "metadata": {
     },
     "output_type": "execute_result"
    }
   ],
   "source": [
    "## Arithmetic Expression Examples\n",
    "addition=2 + 5\n",
    "subtraction=10 - 3\n",
    "multiplication=4 * 6\n",
    "division=15 / 3\n",
    "show(addition)\n",
    "show(subtraction)\n",
    "show(multiplication)\n",
    "show(division)"
   ]
  },
  {
   "cell_type": "code",
   "execution_count": 3,
   "metadata": {
    "collapsed": false
   },
   "outputs": [
    {
     "name": "stdout",
     "output_type": "stream",
     "text": [
      "Multiplication result: 50\n",
      "Addition result: 15\n"
     ]
    }
   ],
   "source": [
    "# Multiply and Add Numbers\n",
    "num1 = 5\n",
    "num2 = 10\n",
    "\n",
    "# Multiplication\n",
    "result_multiply = num1 * num2\n",
    "\n",
    "# Addition\n",
    "result_add = num1 + num2\n",
    "\n",
    "# Output the results\n",
    "print(\"Multiplication result:\", result_multiply)\n",
    "print(\"Addition result:\", result_add)"
   ]
  },
  {
   "cell_type": "code",
   "execution_count": 10,
   "metadata": {
    "collapsed": false
   },
   "outputs": [
    {
     "name": "stdout",
     "output_type": "stream",
     "text": [
      "150 minutes is equal to 2.50 hours.\n"
     ]
    }
   ],
   "source": [
    "# Convert Minutes to Hours\n",
    "def minutes_to_hours(minutes):\n",
    "    hours = minutes / 60\n",
    "    return hours\n",
    "\n",
    "# Example usage\n",
    "minutes = 150\n",
    "hours_result = minutes_to_hours(minutes)\n",
    "\n",
    "# Output the result\n",
    "print(f\"{minutes} minutes is equal to {float(hours_result):.2f} hours.\")"
   ]
  },
  {
   "cell_type": "markdown",
   "metadata": {
    "collapsed": false
   },
   "source": [
    "## Objectives\n",
    "\n",
    "In this notebook, we aim to achieve the following objectives:\n",
    "\n",
    "1. **Introduction to Data Analysis**: Provide an overview of data analysis and its importance in various domains.\n",
    "\n",
    "2. **Data Preprocessing**: Explore techniques for cleaning, transforming, and preparing data for analysis.\n",
    "\n",
    "3. **Exploratory Data Analysis (EDA)**: Perform EDA to gain insights into the dataset, identify patterns, and visualize trends.\n",
    "\n",
    "4. **Statistical Analysis**: Introduce basic statistical concepts and demonstrate how to apply them to draw meaningful conclusions.\n",
    "\n",
    "5. **Data Visualization**: Utilize popular data visualization libraries to create informative and visually appealing plots.\n",
    "\n",
    "6. **Introduction to Machine Learning**: Introduce fundamental machine learning concepts and workflows.\n",
    "\n",
    "7. **Supervised Learning**: Cover supervised learning algorithms such as regression and classification.\n",
    "\n",
    "8. **Unsupervised Learning**: Discuss unsupervised learning techniques, including clustering and dimensionality reduction.\n",
    "\n",
    "9. **Model Evaluation and Selection**: Explore methods for evaluating and selecting the best-performing machine learning models.\n",
    "\n",
    "10. **Model Deployment**: Briefly touch on the process of deploying machine learning models to production.\n",
    "\n",
    "By the end of this notebook, you will have a solid foundation in data analysis, visualization, and machine learning, equipping you with the necessary skills to tackle real-world data science projects.\n"
   ]
  },
  {
   "cell_type": "markdown",
   "metadata": {
    "collapsed": false
   },
   "source": [
    "## Author\n",
    "\n",
    "**Ayush Lochan**\n",
    "\n",
    "[GitHub Profile] (https://github.com/AyushLochan)\n"
   ]
  }
 ],
 "metadata": {
  "kernelspec": {
   "argv": [
    "sage-9.8",
    "--python",
    "-m",
    "sage.repl.ipython_kernel",
    "--matplotlib=inline",
    "-f",
    "{connection_file}"
   ],
   "display_name": "SageMath 9.8",
   "env": {
   },
   "language": "sagemath",
   "metadata": {
    "cocalc": {
     "description": "Open-source mathematical software system",
     "priority": 1,
     "url": "https://www.sagemath.org/"
    }
   },
   "name": "sage-9.8",
   "resource_dir": "/ext/jupyter/kernels/sage-9.8"
  },
  "language_info": {
   "codemirror_mode": {
    "name": "ipython",
    "version": 3
   },
   "file_extension": ".py",
   "mimetype": "text/x-python",
   "name": "python",
   "nbconvert_exporter": "python",
   "pygments_lexer": "ipython3",
   "version": "3.11.1"
  }
 },
 "nbformat": 4,
 "nbformat_minor": 4
}